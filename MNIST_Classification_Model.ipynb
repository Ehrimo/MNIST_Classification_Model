{
  "cells": [
    {
      "cell_type": "markdown",
      "metadata": {
        "id": "xEas3R4fZ0vu"
      },
      "source": [
        "# MNIST Classification Model"
      ]
    },
    {
      "cell_type": "code",
      "execution_count": null,
      "metadata": {
        "id": "21aaqCayZjf7"
      },
      "outputs": [],
      "source": [
        "import tensorflow as tf\n",
        "from tensorflow.keras.datasets import mnist"
      ]
    },
    {
      "cell_type": "code",
      "execution_count": null,
      "metadata": {
        "colab": {
          "base_uri": "https://localhost:8080/"
        },
        "id": "5o4OAueDZmIq",
        "outputId": "f6185d7a-6c8e-4530-dbae-5c8d156175ec"
      },
      "outputs": [
        {
          "name": "stdout",
          "output_type": "stream",
          "text": [
            "Downloading data from https://storage.googleapis.com/tensorflow/tf-keras-datasets/mnist.npz\n",
            "11490434/11490434 [==============================] - 0s 0us/step\n"
          ]
        }
      ],
      "source": [
        "# MNIST veri kümesini yükle\n",
        "(x_train, y_train), (x_test, y_test) = mnist.load_data()"
      ]
    },
    {
      "cell_type": "code",
      "execution_count": null,
      "metadata": {
        "id": "w06cgYp8Znx5"
      },
      "outputs": [],
      "source": [
        "# Giriş verilerini yeniden boyutlandırma ve ölçeklendirme\n",
        "x_train = x_train.reshape(60000, 784) / 255.0\n",
        "x_test = x_test.reshape(10000, 784) / 255.0"
      ]
    },
    {
      "cell_type": "code",
      "execution_count": null,
      "metadata": {
        "id": "NIsBhRyqZqYc"
      },
      "outputs": [],
      "source": [
        "# Sınıflandırma modeli oluşturma\n",
        "inputs = tf.keras.Input(shape=(784,))\n",
        "outputs = tf.keras.layers.Dense(10, activation=\"softmax\")(inputs)\n",
        "model = tf.keras.Model(inputs=inputs, outputs=outputs)"
      ]
    },
    {
      "cell_type": "code",
      "execution_count": null,
      "metadata": {
        "id": "F17BhtVeZsPN"
      },
      "outputs": [],
      "source": [
        "# Modeli derleme\n",
        "model.compile(optimizer=\"sgd\", loss=\"sparse_categorical_crossentropy\", metrics=[\"accuracy\"])"
      ]
    },
    {
      "cell_type": "code",
      "execution_count": null,
      "metadata": {
        "colab": {
          "background_save": true,
          "base_uri": "https://localhost:8080/"
        },
        "id": "nxGVKQGBZtts",
        "outputId": "95b418ea-4f63-4af0-991c-77d35e6c11d2"
      },
      "outputs": [
        {
          "name": "stdout",
          "output_type": "stream",
          "text": [
            "Epoch 1/100\n",
            "1875/1875 [==============================] - 16s 8ms/step - loss: 0.7789 - accuracy: 0.8165 - val_loss: 0.4815 - val_accuracy: 0.8795\n",
            "Epoch 2/100\n",
            "1875/1875 [==============================] - 4s 2ms/step - loss: 0.4569 - accuracy: 0.8806 - val_loss: 0.4022 - val_accuracy: 0.8945\n",
            "Epoch 3/100\n",
            "1875/1875 [==============================] - 4s 2ms/step - loss: 0.4041 - accuracy: 0.8905 - val_loss: 0.3684 - val_accuracy: 0.9014\n",
            "Epoch 4/100\n",
            "1875/1875 [==============================] - 3s 2ms/step - loss: 0.3775 - accuracy: 0.8965 - val_loss: 0.3502 - val_accuracy: 0.9056\n",
            "Epoch 5/100\n",
            "1875/1875 [==============================] - 4s 2ms/step - loss: 0.3608 - accuracy: 0.9006 - val_loss: 0.3372 - val_accuracy: 0.9065\n",
            "Epoch 6/100\n",
            "1875/1875 [==============================] - 5s 2ms/step - loss: 0.3489 - accuracy: 0.9033 - val_loss: 0.3286 - val_accuracy: 0.9098\n",
            "Epoch 7/100\n",
            "1875/1875 [==============================] - 3s 2ms/step - loss: 0.3397 - accuracy: 0.9055 - val_loss: 0.3208 - val_accuracy: 0.9122\n",
            "Epoch 8/100\n",
            "1875/1875 [==============================] - 4s 2ms/step - loss: 0.3326 - accuracy: 0.9071 - val_loss: 0.3162 - val_accuracy: 0.9122\n",
            "Epoch 9/100\n",
            "1875/1875 [==============================] - 5s 2ms/step - loss: 0.3267 - accuracy: 0.9085 - val_loss: 0.3118 - val_accuracy: 0.9143\n",
            "Epoch 10/100\n",
            "1875/1875 [==============================] - 4s 2ms/step - loss: 0.3218 - accuracy: 0.9103 - val_loss: 0.3069 - val_accuracy: 0.9155\n",
            "Epoch 11/100\n",
            "1875/1875 [==============================] - 4s 2ms/step - loss: 0.3175 - accuracy: 0.9108 - val_loss: 0.3043 - val_accuracy: 0.9163\n",
            "Epoch 12/100\n",
            "1875/1875 [==============================] - 4s 2ms/step - loss: 0.3139 - accuracy: 0.9125 - val_loss: 0.3010 - val_accuracy: 0.9169\n",
            "Epoch 13/100\n",
            "1875/1875 [==============================] - 4s 2ms/step - loss: 0.3107 - accuracy: 0.9135 - val_loss: 0.2987 - val_accuracy: 0.9171\n",
            "Epoch 14/100\n",
            "1875/1875 [==============================] - 4s 2ms/step - loss: 0.3077 - accuracy: 0.9140 - val_loss: 0.2968 - val_accuracy: 0.9185\n",
            "Epoch 15/100\n",
            "1875/1875 [==============================] - 4s 2ms/step - loss: 0.3052 - accuracy: 0.9148 - val_loss: 0.2956 - val_accuracy: 0.9177\n",
            "Epoch 16/100\n",
            "1875/1875 [==============================] - 4s 2ms/step - loss: 0.3029 - accuracy: 0.9159 - val_loss: 0.2928 - val_accuracy: 0.9191\n",
            "Epoch 17/100\n",
            "1875/1875 [==============================] - 4s 2ms/step - loss: 0.3006 - accuracy: 0.9162 - val_loss: 0.2917 - val_accuracy: 0.9181\n",
            "Epoch 18/100\n",
            "1875/1875 [==============================] - 3s 2ms/step - loss: 0.2988 - accuracy: 0.9171 - val_loss: 0.2901 - val_accuracy: 0.9181\n",
            "Epoch 19/100\n",
            "1875/1875 [==============================] - 5s 3ms/step - loss: 0.2969 - accuracy: 0.9172 - val_loss: 0.2885 - val_accuracy: 0.9195\n",
            "Epoch 20/100\n",
            "1875/1875 [==============================] - 4s 2ms/step - loss: 0.2952 - accuracy: 0.9173 - val_loss: 0.2882 - val_accuracy: 0.9202\n",
            "Epoch 21/100\n",
            "1875/1875 [==============================] - 4s 2ms/step - loss: 0.2937 - accuracy: 0.9179 - val_loss: 0.2864 - val_accuracy: 0.9190\n",
            "Epoch 22/100\n",
            "1875/1875 [==============================] - 4s 2ms/step - loss: 0.2923 - accuracy: 0.9183 - val_loss: 0.2858 - val_accuracy: 0.9185\n",
            "Epoch 23/100\n",
            "1875/1875 [==============================] - 4s 2ms/step - loss: 0.2909 - accuracy: 0.9185 - val_loss: 0.2848 - val_accuracy: 0.9197\n",
            "Epoch 24/100\n",
            "1875/1875 [==============================] - 4s 2ms/step - loss: 0.2897 - accuracy: 0.9192 - val_loss: 0.2842 - val_accuracy: 0.9191\n",
            "Epoch 25/100\n",
            "1875/1875 [==============================] - 4s 2ms/step - loss: 0.2885 - accuracy: 0.9192 - val_loss: 0.2827 - val_accuracy: 0.9197\n",
            "Epoch 26/100\n",
            "1875/1875 [==============================] - 4s 2ms/step - loss: 0.2874 - accuracy: 0.9198 - val_loss: 0.2824 - val_accuracy: 0.9201\n",
            "Epoch 27/100\n",
            "1875/1875 [==============================] - 3s 2ms/step - loss: 0.2864 - accuracy: 0.9200 - val_loss: 0.2817 - val_accuracy: 0.9204\n",
            "Epoch 28/100\n",
            "1875/1875 [==============================] - 5s 3ms/step - loss: 0.2853 - accuracy: 0.9202 - val_loss: 0.2809 - val_accuracy: 0.9201\n",
            "Epoch 29/100\n",
            "1875/1875 [==============================] - 4s 2ms/step - loss: 0.2843 - accuracy: 0.9206 - val_loss: 0.2810 - val_accuracy: 0.9214\n",
            "Epoch 30/100\n",
            "1875/1875 [==============================] - 4s 2ms/step - loss: 0.2833 - accuracy: 0.9209 - val_loss: 0.2802 - val_accuracy: 0.9205\n",
            "Epoch 31/100\n",
            "1875/1875 [==============================] - 6s 3ms/step - loss: 0.2826 - accuracy: 0.9214 - val_loss: 0.2795 - val_accuracy: 0.9209\n",
            "Epoch 32/100\n",
            "1875/1875 [==============================] - 4s 2ms/step - loss: 0.2817 - accuracy: 0.9214 - val_loss: 0.2788 - val_accuracy: 0.9214\n",
            "Epoch 33/100\n",
            "1875/1875 [==============================] - 4s 2ms/step - loss: 0.2809 - accuracy: 0.9217 - val_loss: 0.2792 - val_accuracy: 0.9205\n",
            "Epoch 34/100\n",
            "1875/1875 [==============================] - 5s 3ms/step - loss: 0.2802 - accuracy: 0.9218 - val_loss: 0.2785 - val_accuracy: 0.9211\n",
            "Epoch 35/100\n",
            "1875/1875 [==============================] - 4s 2ms/step - loss: 0.2794 - accuracy: 0.9221 - val_loss: 0.2772 - val_accuracy: 0.9215\n",
            "Epoch 36/100\n",
            "1875/1875 [==============================] - 4s 2ms/step - loss: 0.2787 - accuracy: 0.9223 - val_loss: 0.2769 - val_accuracy: 0.9216\n",
            "Epoch 37/100\n",
            "1875/1875 [==============================] - 5s 3ms/step - loss: 0.2780 - accuracy: 0.9227 - val_loss: 0.2765 - val_accuracy: 0.9217\n",
            "Epoch 38/100\n",
            "1875/1875 [==============================] - 4s 2ms/step - loss: 0.2773 - accuracy: 0.9221 - val_loss: 0.2766 - val_accuracy: 0.9217\n",
            "Epoch 39/100\n",
            "1875/1875 [==============================] - 4s 2ms/step - loss: 0.2768 - accuracy: 0.9228 - val_loss: 0.2764 - val_accuracy: 0.9210\n",
            "Epoch 40/100\n",
            "1875/1875 [==============================] - 5s 3ms/step - loss: 0.2762 - accuracy: 0.9233 - val_loss: 0.2758 - val_accuracy: 0.9217\n",
            "Epoch 41/100\n",
            "1875/1875 [==============================] - 4s 2ms/step - loss: 0.2756 - accuracy: 0.9232 - val_loss: 0.2753 - val_accuracy: 0.9222\n",
            "Epoch 42/100\n",
            "1875/1875 [==============================] - 4s 2ms/step - loss: 0.2750 - accuracy: 0.9237 - val_loss: 0.2751 - val_accuracy: 0.9208\n",
            "Epoch 43/100\n",
            "1875/1875 [==============================] - 4s 2ms/step - loss: 0.2745 - accuracy: 0.9237 - val_loss: 0.2752 - val_accuracy: 0.9201\n",
            "Epoch 44/100\n",
            "1875/1875 [==============================] - 4s 2ms/step - loss: 0.2739 - accuracy: 0.9238 - val_loss: 0.2745 - val_accuracy: 0.9217\n",
            "Epoch 45/100\n",
            "1875/1875 [==============================] - 4s 2ms/step - loss: 0.2734 - accuracy: 0.9240 - val_loss: 0.2748 - val_accuracy: 0.9226\n",
            "Epoch 46/100\n",
            "1875/1875 [==============================] - 4s 2ms/step - loss: 0.2730 - accuracy: 0.9243 - val_loss: 0.2739 - val_accuracy: 0.9212\n",
            "Epoch 47/100\n",
            "1875/1875 [==============================] - 4s 2ms/step - loss: 0.2724 - accuracy: 0.9243 - val_loss: 0.2738 - val_accuracy: 0.9214\n",
            "Epoch 48/100\n",
            "1875/1875 [==============================] - 3s 2ms/step - loss: 0.2720 - accuracy: 0.9244 - val_loss: 0.2728 - val_accuracy: 0.9225\n",
            "Epoch 49/100\n",
            "1875/1875 [==============================] - 4s 2ms/step - loss: 0.2715 - accuracy: 0.9247 - val_loss: 0.2727 - val_accuracy: 0.9219\n",
            "Epoch 50/100\n",
            "1875/1875 [==============================] - 4s 2ms/step - loss: 0.2710 - accuracy: 0.9247 - val_loss: 0.2735 - val_accuracy: 0.9231\n",
            "Epoch 51/100\n",
            "1875/1875 [==============================] - 3s 2ms/step - loss: 0.2707 - accuracy: 0.9246 - val_loss: 0.2729 - val_accuracy: 0.9223\n",
            "Epoch 52/100\n",
            "1875/1875 [==============================] - 3s 2ms/step - loss: 0.2702 - accuracy: 0.9250 - val_loss: 0.2721 - val_accuracy: 0.9217\n",
            "Epoch 53/100\n",
            "1875/1875 [==============================] - 4s 2ms/step - loss: 0.2697 - accuracy: 0.9248 - val_loss: 0.2727 - val_accuracy: 0.9224\n",
            "Epoch 54/100\n",
            "1875/1875 [==============================] - 3s 2ms/step - loss: 0.2694 - accuracy: 0.9249 - val_loss: 0.2723 - val_accuracy: 0.9225\n",
            "Epoch 55/100\n",
            "1875/1875 [==============================] - 4s 2ms/step - loss: 0.2691 - accuracy: 0.9254 - val_loss: 0.2724 - val_accuracy: 0.9223\n",
            "Epoch 56/100\n",
            "1875/1875 [==============================] - 4s 2ms/step - loss: 0.2686 - accuracy: 0.9253 - val_loss: 0.2715 - val_accuracy: 0.9230\n",
            "Epoch 57/100\n",
            "1875/1875 [==============================] - 4s 2ms/step - loss: 0.2683 - accuracy: 0.9255 - val_loss: 0.2716 - val_accuracy: 0.9227\n",
            "Epoch 58/100\n",
            "1875/1875 [==============================] - 4s 2ms/step - loss: 0.2680 - accuracy: 0.9255 - val_loss: 0.2710 - val_accuracy: 0.9232\n",
            "Epoch 59/100\n",
            "1875/1875 [==============================] - 4s 2ms/step - loss: 0.2675 - accuracy: 0.9259 - val_loss: 0.2709 - val_accuracy: 0.9221\n",
            "Epoch 60/100\n",
            "1875/1875 [==============================] - 4s 2ms/step - loss: 0.2672 - accuracy: 0.9258 - val_loss: 0.2704 - val_accuracy: 0.9225\n",
            "Epoch 61/100\n",
            "1875/1875 [==============================] - 3s 2ms/step - loss: 0.2669 - accuracy: 0.9260 - val_loss: 0.2710 - val_accuracy: 0.9216\n",
            "Epoch 62/100\n",
            "1875/1875 [==============================] - 4s 2ms/step - loss: 0.2666 - accuracy: 0.9258 - val_loss: 0.2714 - val_accuracy: 0.9222\n",
            "Epoch 63/100\n",
            "1875/1875 [==============================] - 3s 2ms/step - loss: 0.2662 - accuracy: 0.9264 - val_loss: 0.2709 - val_accuracy: 0.9228\n",
            "Epoch 64/100\n",
            "1875/1875 [==============================] - 4s 2ms/step - loss: 0.2660 - accuracy: 0.9263 - val_loss: 0.2702 - val_accuracy: 0.9233\n",
            "Epoch 65/100\n",
            "1875/1875 [==============================] - 4s 2ms/step - loss: 0.2655 - accuracy: 0.9265 - val_loss: 0.2698 - val_accuracy: 0.9233\n",
            "Epoch 66/100\n",
            "1875/1875 [==============================] - 3s 2ms/step - loss: 0.2653 - accuracy: 0.9262 - val_loss: 0.2698 - val_accuracy: 0.9234\n",
            "Epoch 67/100\n",
            "1875/1875 [==============================] - 4s 2ms/step - loss: 0.2650 - accuracy: 0.9263 - val_loss: 0.2702 - val_accuracy: 0.9233\n",
            "Epoch 68/100\n",
            "1875/1875 [==============================] - 4s 2ms/step - loss: 0.2647 - accuracy: 0.9266 - val_loss: 0.2696 - val_accuracy: 0.9231\n",
            "Epoch 69/100\n",
            "1875/1875 [==============================] - 4s 2ms/step - loss: 0.2645 - accuracy: 0.9265 - val_loss: 0.2699 - val_accuracy: 0.9225\n",
            "Epoch 70/100\n",
            "1875/1875 [==============================] - 3s 2ms/step - loss: 0.2642 - accuracy: 0.9274 - val_loss: 0.2696 - val_accuracy: 0.9226\n",
            "Epoch 71/100\n",
            "1875/1875 [==============================] - 4s 2ms/step - loss: 0.2639 - accuracy: 0.9271 - val_loss: 0.2688 - val_accuracy: 0.9236\n",
            "Epoch 72/100\n",
            "1875/1875 [==============================] - 4s 2ms/step - loss: 0.2636 - accuracy: 0.9267 - val_loss: 0.2694 - val_accuracy: 0.9227\n",
            "Epoch 73/100\n",
            "1875/1875 [==============================] - 4s 2ms/step - loss: 0.2634 - accuracy: 0.9273 - val_loss: 0.2698 - val_accuracy: 0.9230\n",
            "Epoch 74/100\n",
            "1875/1875 [==============================] - 4s 2ms/step - loss: 0.2631 - accuracy: 0.9271 - val_loss: 0.2694 - val_accuracy: 0.9219\n",
            "Epoch 75/100\n",
            "1875/1875 [==============================] - 4s 2ms/step - loss: 0.2629 - accuracy: 0.9271 - val_loss: 0.2691 - val_accuracy: 0.9232\n",
            "Epoch 76/100\n",
            "1875/1875 [==============================] - 4s 2ms/step - loss: 0.2626 - accuracy: 0.9272 - val_loss: 0.2694 - val_accuracy: 0.9238\n",
            "Epoch 77/100\n",
            "1875/1875 [==============================] - 3s 2ms/step - loss: 0.2624 - accuracy: 0.9271 - val_loss: 0.2690 - val_accuracy: 0.9232\n",
            "Epoch 78/100\n",
            "1875/1875 [==============================] - 4s 2ms/step - loss: 0.2622 - accuracy: 0.9273 - val_loss: 0.2687 - val_accuracy: 0.9233\n",
            "Epoch 79/100\n",
            "1875/1875 [==============================] - 4s 2ms/step - loss: 0.2619 - accuracy: 0.9275 - val_loss: 0.2692 - val_accuracy: 0.9232\n",
            "Epoch 80/100\n",
            "1875/1875 [==============================] - 4s 2ms/step - loss: 0.2617 - accuracy: 0.9275 - val_loss: 0.2686 - val_accuracy: 0.9235\n",
            "Epoch 81/100\n",
            "1875/1875 [==============================] - 4s 2ms/step - loss: 0.2615 - accuracy: 0.9278 - val_loss: 0.2688 - val_accuracy: 0.9232\n",
            "Epoch 82/100\n",
            "1875/1875 [==============================] - 4s 2ms/step - loss: 0.2612 - accuracy: 0.9277 - val_loss: 0.2688 - val_accuracy: 0.9238\n",
            "Epoch 83/100\n",
            "1875/1875 [==============================] - 4s 2ms/step - loss: 0.2611 - accuracy: 0.9279 - val_loss: 0.2683 - val_accuracy: 0.9242\n",
            "Epoch 84/100\n",
            "1875/1875 [==============================] - 4s 2ms/step - loss: 0.2607 - accuracy: 0.9281 - val_loss: 0.2692 - val_accuracy: 0.9223\n",
            "Epoch 85/100\n",
            "1875/1875 [==============================] - 4s 2ms/step - loss: 0.2605 - accuracy: 0.9281 - val_loss: 0.2683 - val_accuracy: 0.9231\n",
            "Epoch 86/100\n",
            "1875/1875 [==============================] - 4s 2ms/step - loss: 0.2603 - accuracy: 0.9282 - val_loss: 0.2678 - val_accuracy: 0.9238\n",
            "Epoch 87/100\n",
            "1875/1875 [==============================] - 4s 2ms/step - loss: 0.2600 - accuracy: 0.9279 - val_loss: 0.2681 - val_accuracy: 0.9236\n",
            "Epoch 88/100\n",
            "1875/1875 [==============================] - 4s 2ms/step - loss: 0.2600 - accuracy: 0.9282 - val_loss: 0.2679 - val_accuracy: 0.9234\n",
            "Epoch 89/100\n",
            "1875/1875 [==============================] - 3s 2ms/step - loss: 0.2596 - accuracy: 0.9283 - val_loss: 0.2680 - val_accuracy: 0.9234\n",
            "Epoch 90/100\n",
            "1875/1875 [==============================] - 4s 2ms/step - loss: 0.2595 - accuracy: 0.9284 - val_loss: 0.2682 - val_accuracy: 0.9237\n",
            "Epoch 91/100\n",
            "1875/1875 [==============================] - 4s 2ms/step - loss: 0.2593 - accuracy: 0.9283 - val_loss: 0.2688 - val_accuracy: 0.9230\n",
            "Epoch 92/100\n",
            "1875/1875 [==============================] - 3s 2ms/step - loss: 0.2592 - accuracy: 0.9286 - val_loss: 0.2683 - val_accuracy: 0.9228\n",
            "Epoch 93/100\n",
            "1875/1875 [==============================] - 4s 2ms/step - loss: 0.2588 - accuracy: 0.9290 - val_loss: 0.2682 - val_accuracy: 0.9244\n",
            "Epoch 94/100\n",
            "1875/1875 [==============================] - 4s 2ms/step - loss: 0.2588 - accuracy: 0.9282 - val_loss: 0.2676 - val_accuracy: 0.9236\n",
            "Epoch 95/100\n",
            "1875/1875 [==============================] - 4s 2ms/step - loss: 0.2586 - accuracy: 0.9289 - val_loss: 0.2672 - val_accuracy: 0.9240\n",
            "Epoch 96/100\n",
            "1875/1875 [==============================] - 4s 2ms/step - loss: 0.2584 - accuracy: 0.9286 - val_loss: 0.2674 - val_accuracy: 0.9234\n",
            "Epoch 97/100\n",
            "1875/1875 [==============================] - 4s 2ms/step - loss: 0.2582 - accuracy: 0.9287 - val_loss: 0.2672 - val_accuracy: 0.9240\n",
            "Epoch 98/100\n",
            "1875/1875 [==============================] - 4s 2ms/step - loss: 0.2581 - accuracy: 0.9288 - val_loss: 0.2673 - val_accuracy: 0.9233\n",
            "Epoch 99/100\n",
            "1875/1875 [==============================] - 3s 2ms/step - loss: 0.2579 - accuracy: 0.9290 - val_loss: 0.2669 - val_accuracy: 0.9237\n",
            "Epoch 100/100\n",
            "1875/1875 [==============================] - 4s 2ms/step - loss: 0.2577 - accuracy: 0.9288 - val_loss: 0.2678 - val_accuracy: 0.9232\n"
          ]
        }
      ],
      "source": [
        "# Modeli eğitme\n",
        "history = model.fit(x_train, y_train, epochs=100, validation_data=(x_test, y_test))"
      ]
    },
    {
      "cell_type": "code",
      "execution_count": null,
      "metadata": {
        "colab": {
          "background_save": true
        },
        "id": "6f0RM9z_ZwHF",
        "outputId": "9c0aa521-99e7-489d-af39-fe100dd5146e"
      },
      "outputs": [
        {
          "name": "stdout",
          "output_type": "stream",
          "text": [
            "313/313 [==============================] - 0s 1ms/step - loss: 0.2678 - accuracy: 0.9232\n",
            "Test accuracy: 0.9232000112533569\n"
          ]
        }
      ],
      "source": [
        "# Modeli değerlendirme\n",
        "test_loss, test_accuracy = model.evaluate(x_test, y_test)\n",
        "print(\"Test accuracy:\", test_accuracy)"
      ]
    }
  ],
  "metadata": {
    "colab": {
      "provenance": [],
      "toc_visible": true
    },
    "kernelspec": {
      "display_name": "Python 3",
      "name": "python3"
    },
    "language_info": {
      "name": "python"
    }
  },
  "nbformat": 4,
  "nbformat_minor": 0
}